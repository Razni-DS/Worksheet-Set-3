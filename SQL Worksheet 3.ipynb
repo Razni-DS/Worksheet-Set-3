{
 "cells": [
  {
   "cell_type": "markdown",
   "id": "920235cb",
   "metadata": {},
   "source": [
    "# SQL WORKSHEET 3"
   ]
  },
  {
   "cell_type": "markdown",
   "id": "df7f8c89",
   "metadata": {},
   "source": [
    "### Submitted by RAZNI NAZEEM\n",
    "\n",
    "**Internship 26**"
   ]
  },
  {
   "cell_type": "code",
   "execution_count": 1,
   "id": "2856c4a6",
   "metadata": {},
   "outputs": [],
   "source": [
    "import sqlite3"
   ]
  },
  {
   "cell_type": "code",
   "execution_count": 2,
   "id": "28232551",
   "metadata": {},
   "outputs": [],
   "source": [
    "#first connection object\n",
    "\n",
    "db=sqlite3.connect('Company_database.db')"
   ]
  },
  {
   "cell_type": "code",
   "execution_count": 3,
   "id": "7a8cc15b",
   "metadata": {},
   "outputs": [],
   "source": [
    "#create cursor object from connection\n",
    "\n",
    "cur=db.cursor()"
   ]
  },
  {
   "cell_type": "markdown",
   "id": "e4c3c74b",
   "metadata": {},
   "source": [
    "## Q1. Write SQL query to create table Customers."
   ]
  },
  {
   "cell_type": "code",
   "execution_count": 4,
   "id": "ebb4aa20",
   "metadata": {},
   "outputs": [
    {
     "data": {
      "text/plain": [
       "<sqlite3.Cursor at 0x7f7f864539d0>"
      ]
     },
     "execution_count": 4,
     "metadata": {},
     "output_type": "execute_result"
    }
   ],
   "source": [
    "cur.execute(\"create table Customers (customerNumber int primary key,customerName text,contactLastName text,contactFirstName text,phone int,addressLine1 text,addressLine2 text,city text,state text,postalCode int,country text,salesRepEmployeeNumber int,creditLimit int)\")"
   ]
  },
  {
   "cell_type": "markdown",
   "id": "41583892",
   "metadata": {},
   "source": [
    "## Q2. Write SQL query to create table Orders."
   ]
  },
  {
   "cell_type": "code",
   "execution_count": 5,
   "id": "d081c2e8",
   "metadata": {},
   "outputs": [
    {
     "data": {
      "text/plain": [
       "<sqlite3.Cursor at 0x7f7f864539d0>"
      ]
     },
     "execution_count": 5,
     "metadata": {},
     "output_type": "execute_result"
    }
   ],
   "source": [
    "cur.execute(\"create table Orders (orderNumber int primary key,orderDate date,requiredDate date,shippedDate date,status text,comments text,customerNumber int)\")"
   ]
  },
  {
   "cell_type": "markdown",
   "id": "25df88e4",
   "metadata": {},
   "source": [
    "## Q3. Write SQL query to show all the columns data from the Orders Table."
   ]
  },
  {
   "cell_type": "code",
   "execution_count": 7,
   "id": "5ef7231e",
   "metadata": {},
   "outputs": [
    {
     "data": {
      "text/plain": [
       "[]"
      ]
     },
     "execution_count": 7,
     "metadata": {},
     "output_type": "execute_result"
    }
   ],
   "source": [
    "results=cur.execute(\"select * from Orders\")\n",
    "results.fetchall()"
   ]
  },
  {
   "cell_type": "markdown",
   "id": "bdc995a9",
   "metadata": {},
   "source": [
    "## Q4. Write SQL query to show all the comments from the Orders Table."
   ]
  },
  {
   "cell_type": "code",
   "execution_count": 9,
   "id": "22ec4569",
   "metadata": {},
   "outputs": [
    {
     "data": {
      "text/plain": [
       "[]"
      ]
     },
     "execution_count": 9,
     "metadata": {},
     "output_type": "execute_result"
    }
   ],
   "source": [
    "results=cur.execute('select comments from Orders')\n",
    "results.fetchall()"
   ]
  },
  {
   "cell_type": "markdown",
   "id": "48845ef3",
   "metadata": {},
   "source": [
    "## Q5. Write SQL query to show orderDate and Total number of orders placed on that date, from Orders table."
   ]
  },
  {
   "cell_type": "code",
   "execution_count": 11,
   "id": "c1651475",
   "metadata": {},
   "outputs": [
    {
     "data": {
      "text/plain": [
       "[(None, 0)]"
      ]
     },
     "execution_count": 11,
     "metadata": {},
     "output_type": "execute_result"
    }
   ],
   "source": [
    "results=cur.execute(\"select orderDate,count(orderNumber) from Orders where orderDate='2022-03-25'\")\n",
    "results.fetchall()"
   ]
  },
  {
   "cell_type": "markdown",
   "id": "22b3c888",
   "metadata": {},
   "source": [
    "## Q6. Write SQL query to show employeNumber, lastName, firstName of all the employees from employees table"
   ]
  },
  {
   "cell_type": "code",
   "execution_count": 12,
   "id": "42aa7e89",
   "metadata": {},
   "outputs": [
    {
     "data": {
      "text/plain": [
       "<sqlite3.Cursor at 0x7f7f864539d0>"
      ]
     },
     "execution_count": 12,
     "metadata": {},
     "output_type": "execute_result"
    }
   ],
   "source": [
    "cur.execute(\"create table Employees (employeeNumber int primary key,lastName text,firstName text,extension int,email text,officeCode int,reportsTo text,jobTitle text)\")"
   ]
  },
  {
   "cell_type": "code",
   "execution_count": 13,
   "id": "cf343659",
   "metadata": {},
   "outputs": [
    {
     "data": {
      "text/plain": [
       "[]"
      ]
     },
     "execution_count": 13,
     "metadata": {},
     "output_type": "execute_result"
    }
   ],
   "source": [
    "results=cur.execute('select employeeNumber,lastName,firstName from Employees')\n",
    "results.fetchall()"
   ]
  },
  {
   "cell_type": "markdown",
   "id": "1773fb57",
   "metadata": {},
   "source": [
    "## Q7. Write SQL query to show all orderNumber, customerName of the person who placed the respective order."
   ]
  },
  {
   "cell_type": "code",
   "execution_count": 15,
   "id": "d834448b",
   "metadata": {},
   "outputs": [
    {
     "data": {
      "text/plain": [
       "[]"
      ]
     },
     "execution_count": 15,
     "metadata": {},
     "output_type": "execute_result"
    }
   ],
   "source": [
    "results=cur.execute('select Orders.orderNumber, Customers.customerName from Orders inner join Customers on Orders.customerNumber=Customers.customerNumber')\n",
    "results.fetchall()"
   ]
  },
  {
   "cell_type": "markdown",
   "id": "30f164c9",
   "metadata": {},
   "source": [
    "## Q8. Write  SQL query to show name of all the customers in one column and salerepemployee name in another column."
   ]
  },
  {
   "cell_type": "code",
   "execution_count": 16,
   "id": "61fe57e0",
   "metadata": {},
   "outputs": [
    {
     "data": {
      "text/plain": [
       "[]"
      ]
     },
     "execution_count": 16,
     "metadata": {},
     "output_type": "execute_result"
    }
   ],
   "source": [
    "results=cur.execute('select customerName,salesRepEmployeeNumber from Customers')\n",
    "results.fetchall()"
   ]
  },
  {
   "cell_type": "markdown",
   "id": "f1413a41",
   "metadata": {},
   "source": [
    "## Q9. Write  a SQL query to show Date in one column and total payment amount of the payments made on that date from the payments table."
   ]
  },
  {
   "cell_type": "code",
   "execution_count": 17,
   "id": "21f42b9f",
   "metadata": {},
   "outputs": [
    {
     "data": {
      "text/plain": [
       "<sqlite3.Cursor at 0x7f7f864539d0>"
      ]
     },
     "execution_count": 17,
     "metadata": {},
     "output_type": "execute_result"
    }
   ],
   "source": [
    "cur.execute(\"create table Payments (customerNumber int primary key,checknumber int,paymentDate date,amount real)\")"
   ]
  },
  {
   "cell_type": "code",
   "execution_count": 18,
   "id": "1cf80fcc",
   "metadata": {},
   "outputs": [
    {
     "data": {
      "text/plain": [
       "[(None, None)]"
      ]
     },
     "execution_count": 18,
     "metadata": {},
     "output_type": "execute_result"
    }
   ],
   "source": [
    "results=cur.execute('select paymentDate,sum(amount) from Payments')\n",
    "results.fetchall()"
   ]
  },
  {
   "cell_type": "markdown",
   "id": "1a112906",
   "metadata": {},
   "source": [
    "## Q10. SQL query to show all the products productName, MSRP, productDescription from the products table."
   ]
  },
  {
   "cell_type": "code",
   "execution_count": 19,
   "id": "b73e54ec",
   "metadata": {},
   "outputs": [
    {
     "data": {
      "text/plain": [
       "<sqlite3.Cursor at 0x7f7f864539d0>"
      ]
     },
     "execution_count": 19,
     "metadata": {},
     "output_type": "execute_result"
    }
   ],
   "source": [
    "cur.execute(\"create table Products (productCode int primary key,productName text,productLine text,productScale text,productVendor text,productDescription text,quantityInStock int,buyPrice real,MSRP real)\")"
   ]
  },
  {
   "cell_type": "code",
   "execution_count": 20,
   "id": "42cba5dd",
   "metadata": {},
   "outputs": [
    {
     "data": {
      "text/plain": [
       "[]"
      ]
     },
     "execution_count": 20,
     "metadata": {},
     "output_type": "execute_result"
    }
   ],
   "source": [
    "results=cur.execute('select productName,MSRP,productDescription from Products')\n",
    "results.fetchall()"
   ]
  },
  {
   "cell_type": "markdown",
   "id": "2cccbb7e",
   "metadata": {},
   "source": [
    "## Q11. Write SQL query to print the productName, productDescription of the most ordered product."
   ]
  },
  {
   "cell_type": "code",
   "execution_count": 21,
   "id": "1aef00df",
   "metadata": {},
   "outputs": [
    {
     "data": {
      "text/plain": [
       "<sqlite3.Cursor at 0x7f7f864539d0>"
      ]
     },
     "execution_count": 21,
     "metadata": {},
     "output_type": "execute_result"
    }
   ],
   "source": [
    "cur.execute(\"create table Orderdetails (orderNumber int primary key,productCode int,quantityOrdered int,priceEach real,orderLineNumber int)\")"
   ]
  },
  {
   "cell_type": "code",
   "execution_count": 23,
   "id": "3d4aff22",
   "metadata": {},
   "outputs": [
    {
     "data": {
      "text/plain": [
       "[]"
      ]
     },
     "execution_count": 23,
     "metadata": {},
     "output_type": "execute_result"
    }
   ],
   "source": [
    "results=cur.execute('select Products.productName, Products.productDescription from Products inner join Orderdetails on Products.productCode=Orderdetails.productCode')\n",
    "results.fetchall()"
   ]
  },
  {
   "cell_type": "markdown",
   "id": "5d4ea764",
   "metadata": {},
   "source": [
    "## Q12.  Write SQL query to print the city name where maximum number of orders were placed."
   ]
  },
  {
   "cell_type": "code",
   "execution_count": 25,
   "id": "00d0720f",
   "metadata": {},
   "outputs": [
    {
     "data": {
      "text/plain": [
       "[]"
      ]
     },
     "execution_count": 25,
     "metadata": {},
     "output_type": "execute_result"
    }
   ],
   "source": [
    "results=cur.execute('select Orderdetails.orderNumber,Orders.customerNumber,Customers.city from Orderdetails join Orders on Orderdetails.orderNumber=Orders.orderNumber join Customers on Customers.customerNumber=Orders.customerNumber ')\n",
    "results.fetchall()"
   ]
  },
  {
   "cell_type": "markdown",
   "id": "d4c46c3f",
   "metadata": {},
   "source": [
    "## Q13. SQL query to get the name of the state having maximum number of customers."
   ]
  },
  {
   "cell_type": "code",
   "execution_count": 26,
   "id": "d4fa3589",
   "metadata": {},
   "outputs": [
    {
     "data": {
      "text/plain": [
       "[(None, None)]"
      ]
     },
     "execution_count": 26,
     "metadata": {},
     "output_type": "execute_result"
    }
   ],
   "source": [
    "results=cur.execute('select max(state),customerName from Customers')\n",
    "results.fetchall()"
   ]
  },
  {
   "cell_type": "markdown",
   "id": "4bd7850b",
   "metadata": {},
   "source": [
    "## Q14. Write SQL query to print the employee number in one column and Full name of the employee in the second column for all the employees."
   ]
  },
  {
   "cell_type": "code",
   "execution_count": 28,
   "id": "7efe4a84",
   "metadata": {},
   "outputs": [
    {
     "data": {
      "text/plain": [
       "[]"
      ]
     },
     "execution_count": 28,
     "metadata": {},
     "output_type": "execute_result"
    }
   ],
   "source": [
    "results=cur.execute('select employeeNumber,firstname+\" \"+lastName as \"fullName\" from Employees')\n",
    "results.fetchall()"
   ]
  },
  {
   "cell_type": "markdown",
   "id": "2dc9bd86",
   "metadata": {},
   "source": [
    "## Q15. Write SQL query to print the orderNumber, customer Name and total amount paid by the customer for that order (quantityOrdered × priceEach)."
   ]
  },
  {
   "cell_type": "code",
   "execution_count": 30,
   "id": "c9717ca7",
   "metadata": {},
   "outputs": [
    {
     "data": {
      "text/plain": [
       "[]"
      ]
     },
     "execution_count": 30,
     "metadata": {},
     "output_type": "execute_result"
    }
   ],
   "source": [
    "results=cur.execute('select Orders.orderNumber,Customers.customerName,Payments.amount from Orders join Customers on Orders.customerNumber=Customers.customerNumber join Payments on Payments.customerNumber=Customers.customerNumber ')\n",
    "results.fetchall()"
   ]
  }
 ],
 "metadata": {
  "kernelspec": {
   "display_name": "Python 3 (ipykernel)",
   "language": "python",
   "name": "python3"
  },
  "language_info": {
   "codemirror_mode": {
    "name": "ipython",
    "version": 3
   },
   "file_extension": ".py",
   "mimetype": "text/x-python",
   "name": "python",
   "nbconvert_exporter": "python",
   "pygments_lexer": "ipython3",
   "version": "3.9.12"
  }
 },
 "nbformat": 4,
 "nbformat_minor": 5
}
